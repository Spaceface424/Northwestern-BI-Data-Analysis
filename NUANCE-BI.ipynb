{
 "cells": [
  {
   "cell_type": "code",
   "execution_count": 1,
   "metadata": {},
   "outputs": [],
   "source": [
    "import pandas as pd\n",
    "import os\n",
    "import numpy as np\n",
    "import sklearn.linear_model"
   ]
  },
  {
   "cell_type": "code",
   "execution_count": 5,
   "metadata": {},
   "outputs": [
    {
     "data": {
      "text/plain": [
       "'c:\\\\Users\\\\Ryan Wu\\\\VS Code Stuff\\\\NUANCE'"
      ]
     },
     "execution_count": 5,
     "metadata": {},
     "output_type": "execute_result"
    }
   ],
   "source": [
    "os.getcwd()"
   ]
  },
  {
   "cell_type": "code",
   "execution_count": 2,
   "metadata": {},
   "outputs": [
    {
     "name": "stderr",
     "output_type": "stream",
     "text": [
      "C:\\Users\\Ryan Wu\\AppData\\Local\\Temp\\ipykernel_25084\\488733016.py:1: DtypeWarning: Columns (4,9,14,15,17,19,21,22,23,24,25,27,28,29,30,31,32,33,34,36,37,38,47,51,57,58,59,61,62,63,74,75,84,100) have mixed types. Specify dtype option on import or set low_memory=False.\n",
      "  df = pd.read_csv(\"SHYNE Real Data.csv\", parse_dates=True)\n"
     ]
    }
   ],
   "source": [
    "df = pd.read_csv(\"SHYNE Real Data.csv\", parse_dates=True)"
   ]
  },
  {
   "cell_type": "markdown",
   "metadata": {},
   "source": [
    "## Create Custom Dataframe for Visuals\n",
    "- Filter for Instrument product type\n",
    "- Only keeps hours, product name, start time, and end time columns\n",
    "- Adds facility acronym tag in new column (Facilities not parsed for will have value of 0)\n",
    "- Includes all types of usage (Reservation, Overage, etc.)"
   ]
  },
  {
   "cell_type": "code",
   "execution_count": 3,
   "metadata": {},
   "outputs": [],
   "source": [
    "df_2 = df.loc[df[\"Product Type\"] == \"Instrument\"]\n",
    "df_2 = df_2[[\"Actual Hours\", \"Actual Start Time\", \"Actual End Time\", \"Product\", \"Year\", \"Facility\"]]\n",
    "\n",
    "facilities = [\"EPIC\", \"Keck-II\", \"SPID\", \"BioCryo\", \"NUFAB\", \"NUFAB\"]\n",
    "instruments = [df_2[\"Product\"].str.startswith(\"EPIC\"), df_2[\"Product\"].str.startswith(\"Keck-II\"), \n",
    "               df_2[\"Product\"].str.startswith(\"SPID\"), df_2[\"Product\"].str.startswith(\"BioCryo\"), df_2[\"Facility\"] == \"NUFAB\", df_2[\"Facility\"].str.startswith(\"NU Micro\")]\n",
    "\n",
    "\n",
    "df_2[\"Facility_Acr\"] = np.select(instruments, facilities)\n",
    "\n",
    "#Creates new column with pandas datetime objects\n",
    "df_2[\"datetime\"] = pd.to_datetime(df_2[\"Actual Start Time\"])"
   ]
  },
  {
   "cell_type": "markdown",
   "metadata": {},
   "source": [
    "## Create Hour Interval Rows for Hour-By-Hour Usage\n",
    "prob modify df for final to not waste memory instead of creating copy \n",
    "- code block below takes time but should be less than 2-3 minutes\n"
   ]
  },
  {
   "cell_type": "code",
   "execution_count": 111,
   "metadata": {},
   "outputs": [],
   "source": [
    "#Parses string containing date for hour (left) and minute (right)\n",
    "def left(series):\n",
    "    if not pd.isna(series):\n",
    "        return int(series[-5:-3])\n",
    "def right(series):\n",
    "    if not pd.isna(series):\n",
    "        return int(series[-2:])\n",
    "    \n",
    "#Returns number of minutes the instrument was used in the current hour    \n",
    "def time(row, curr):\n",
    "    end_hr = row[\"end_hour\"]\n",
    "    if end_hr < row[\"start_hour\"]:\n",
    "        end_hr += 24\n",
    "        if curr < row[\"start_hour\"]:\n",
    "            curr += 24\n",
    "    if row[\"start_hour\"] < curr < end_hr:\n",
    "        return 60\n",
    "    elif row[\"start_hour\"] == end_hr and curr == end_hr:\n",
    "        return row[\"end_min\"] - row[\"start_min\"]\n",
    "    elif row[\"start_hour\"] == curr:\n",
    "        return 60 - row[\"start_min\"]\n",
    "    elif row[\"end_hour\"] == curr:\n",
    "        return row[\"end_min\"]\n",
    "    else:\n",
    "        return 0\n",
    "\n",
    "def get_hours(start, end, curr_hr):\n",
    "    temp_df = pd.DataFrame()\n",
    "    temp_df[\"start_hour\"] = start.apply(left)\n",
    "    temp_df[\"start_min\"] = start.apply(right)\n",
    "    temp_df[\"end_hour\"] = end.apply(left)\n",
    "    temp_df[\"end_min\"] = end.apply(right)\n",
    "\n",
    "    result = temp_df.apply(time, axis=1, curr=curr_hr)\n",
    "    return result\n",
    "\n",
    "for i in range(24):\n",
    "    df_2[i] = get_hours(df_2[\"Actual Start Time\"], df_2[\"Actual End Time\"], i)"
   ]
  },
  {
   "cell_type": "markdown",
   "metadata": {},
   "source": [
    "## Linear Regression Modeling\n",
    "Creates two custom dataframes for month and day modeling\n",
    "\n"
   ]
  },
  {
   "cell_type": "code",
   "execution_count": 13,
   "metadata": {},
   "outputs": [],
   "source": [
    "start = np.datetime64(\"2015\", \"M\") #Used as the baseline for the date offset with a value of 0\n",
    "day_start = np.datetime64(\"2021\", \"M\")\n",
    "\n",
    "#Gets time difference in months from current datetime to the start of 2015\n",
    "def get_month_offset(datetime):\n",
    "    if not pd.isna(datetime):\n",
    "        return int((datetime - start) / np.timedelta64(1, \"D\") / 30)\n",
    "    else:\n",
    "        return 0\n",
    "\n",
    "#Creates dataframe for month learning models\n",
    "def get_hours_by_month(datetime):\n",
    "    temp_df = pd.DataFrame()\n",
    "    temp_df[\"MonthOffset\"] = datetime.apply(get_month_offset)\n",
    "    temp_df[\"Hours\"] = df_2[\"Actual Hours\"]\n",
    "    return temp_df\n",
    "\n",
    "model_df = get_hours_by_month(df_2[\"datetime\"]).dropna(how=\"any\")\n",
    "model_df = model_df.groupby(\"MonthOffset\").sum()\n",
    "model_df[\"MonthOffset\"] = model_df.index\n"
   ]
  },
  {
   "cell_type": "code",
   "execution_count": 14,
   "metadata": {},
   "outputs": [],
   "source": [
    "#Gets time difference in days from current datetime to the start of 2015\n",
    "def get_day_offset(datetime):\n",
    "    if not pd.isna(datetime):\n",
    "        if int((datetime - day_start) / np.timedelta64(1, \"D\")) > 0:\n",
    "            return int((datetime - day_start) / np.timedelta64(1, \"D\"))\n",
    "        else:\n",
    "            return 0\n",
    "    else:\n",
    "        return 0\n",
    "    \n",
    "#Creates dataframe for day learning models\n",
    "def get_hours_by_day(datetime):\n",
    "    temp_df = pd.DataFrame()\n",
    "    temp_df[\"DayOffset\"] = datetime.apply(get_day_offset)\n",
    "    temp_df[\"Hours\"] = df_2[\"Actual Hours\"]\n",
    "    return temp_df\n",
    "\n",
    "day_model_df = get_hours_by_day(df_2[\"datetime\"]).dropna(how=\"any\")\n",
    "day_model_df = day_model_df.groupby(\"DayOffset\").sum()\n",
    "day_model_df[\"DayOffset\"] = day_model_df.index"
   ]
  },
  {
   "cell_type": "markdown",
   "metadata": {},
   "source": [
    "## Linear Modeling\n",
    "- Creates two OLS linear models for month and day to overall usage with SKLearn\n",
    "- MAQ Software uses MonthDate and DayDate versus Hour columns"
   ]
  },
  {
   "cell_type": "code",
   "execution_count": 8,
   "metadata": {},
   "outputs": [
    {
     "name": "stderr",
     "output_type": "stream",
     "text": [
      "C:\\Users\\Ryan Wu\\AppData\\Local\\Temp\\ipykernel_29644\\1115468798.py:8: DeprecationWarning: Conversion of an array with ndim > 0 to a scalar is deprecated, and will error in future. Ensure you extract a single element from your array before performing this operation. (Deprecated NumPy 1.25.)\n",
      "  return int(month_offset * model.coef_ + model.intercept_)\n"
     ]
    }
   ],
   "source": [
    "model = sklearn.linear_model.LinearRegression()\n",
    "x = model_df[\"MonthOffset\"].to_frame()\n",
    "y = model_df[\"Hours\"].to_frame()\n",
    "\n",
    "model.fit(x, y)\n",
    "\n",
    "def get_predictions(month_offset):\n",
    "    return int(month_offset * model.coef_ + model.intercept_)\n",
    "\n",
    "model_df[\"OLS\"] = model_df[\"MonthOffset\"].apply(get_predictions)\n",
    "model_df = model_df.iloc[1: , :]\n",
    "\n",
    "def get_month_date(month_offset):\n",
    "    return start + np.timedelta64(month_offset, \"M\")\n",
    "\n",
    "model_df[\"MonthDate\"] = model_df[\"MonthOffset\"].apply(get_month_date)\n"
   ]
  },
  {
   "cell_type": "code",
   "execution_count": 24,
   "metadata": {},
   "outputs": [
    {
     "name": "stderr",
     "output_type": "stream",
     "text": [
      "C:\\Users\\Ryan Wu\\AppData\\Local\\Temp\\ipykernel_29644\\2076738162.py:8: DeprecationWarning: Conversion of an array with ndim > 0 to a scalar is deprecated, and will error in future. Ensure you extract a single element from your array before performing this operation. (Deprecated NumPy 1.25.)\n",
      "  return int(day_offset * day_model.coef_ + day_model.intercept_)\n"
     ]
    }
   ],
   "source": [
    "day_model = sklearn.linear_model.LinearRegression()\n",
    "x = day_model_df[\"DayOffset\"].to_frame()\n",
    "y = day_model_df[\"Hours\"].to_frame()\n",
    "\n",
    "day_model.fit(x, y)\n",
    "\n",
    "def get_predictions(day_offset):\n",
    "    return int(day_offset * day_model.coef_ + day_model.intercept_)\n",
    "\n",
    "day_model_df[\"OLS\"] = day_model_df[\"DayOffset\"].apply(get_predictions)\n",
    "day_model_df = day_model_df.iloc[1: , :]\n",
    "\n",
    "def get_day_date(day_offset):\n",
    "    return day_start + np.timedelta64(day_offset, \"D\")\n",
    "\n",
    "day_model_df[\"DayDate\"] = day_model_df[\"DayOffset\"].apply(get_day_date)"
   ]
  },
  {
   "cell_type": "code",
   "execution_count": 1,
   "metadata": {},
   "outputs": [
    {
     "ename": "NameError",
     "evalue": "name 'df_2' is not defined",
     "output_type": "error",
     "traceback": [
      "\u001b[1;31m---------------------------------------------------------------------------\u001b[0m",
      "\u001b[1;31mNameError\u001b[0m                                 Traceback (most recent call last)",
      "Cell \u001b[1;32mIn[1], line 2\u001b[0m\n\u001b[0;32m      1\u001b[0m \u001b[38;5;66;03m#Dataset for Power BI visuals\u001b[39;00m\n\u001b[1;32m----> 2\u001b[0m \u001b[43mdf_2\u001b[49m\u001b[38;5;241m.\u001b[39mto_csv(\u001b[38;5;124m'\u001b[39m\u001b[38;5;124mvisuals.csv\u001b[39m\u001b[38;5;124m'\u001b[39m)\n",
      "\u001b[1;31mNameError\u001b[0m: name 'df_2' is not defined"
     ]
    }
   ],
   "source": [
    "#Dataset for Power BI visuals\n",
    "df_2.to_csv('visuals.csv')"
   ]
  },
  {
   "cell_type": "code",
   "execution_count": 92,
   "metadata": {},
   "outputs": [],
   "source": [
    "#Dataframe for month-by-month learning models\n",
    "model_df.to_csv(\"month_model_data.csv\")"
   ]
  },
  {
   "cell_type": "code",
   "execution_count": 26,
   "metadata": {},
   "outputs": [],
   "source": [
    "#Dataframe for day-by-day learning models\n",
    "day_model_df.to_csv(\"day_model_data.csv\")"
   ]
  }
 ],
 "metadata": {
  "kernelspec": {
   "display_name": ".venv",
   "language": "python",
   "name": "python3"
  },
  "language_info": {
   "codemirror_mode": {
    "name": "ipython",
    "version": 3
   },
   "file_extension": ".py",
   "mimetype": "text/x-python",
   "name": "python",
   "nbconvert_exporter": "python",
   "pygments_lexer": "ipython3",
   "version": "3.12.4"
  }
 },
 "nbformat": 4,
 "nbformat_minor": 2
}
